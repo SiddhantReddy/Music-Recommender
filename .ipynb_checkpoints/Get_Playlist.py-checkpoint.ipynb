{
 "cells": [
  {
   "cell_type": "code",
   "execution_count": 1,
   "metadata": {},
   "outputs": [],
   "source": [
    "import spotipy\n",
    "from spotipy.oauth2 import SpotifyClientCredentials\n",
    "import timeit\n",
    "import pandas as pd\n",
    "import numpy as np "
   ]
  },
  {
   "cell_type": "markdown",
   "metadata": {},
   "source": [
    "# Authentication"
   ]
  },
  {
   "cell_type": "code",
   "execution_count": 2,
   "metadata": {},
   "outputs": [],
   "source": [
    "cid =\"70739307db3e428cbcff6639e00832cb\" \n",
    "secret = \"2b317a42cbbc4a1c833c0ec33d8f0614\"\n",
    "\n",
    "client_credentials_manager = SpotifyClientCredentials(client_id=cid, client_secret=secret)\n",
    "sp = spotipy.Spotify(client_credentials_manager=client_credentials_manager)"
   ]
  },
  {
   "cell_type": "code",
   "execution_count": 3,
   "metadata": {},
   "outputs": [],
   "source": [
    "start = timeit.default_timer()\n",
    "# create empty lists where the results are going to be stored\n",
    "artist_name = []\n",
    "track_name = []\n",
    "popularity = []\n",
    "track_id = []\n",
    "category_id=[]\n",
    "category_name=[]\n"
   ]
  },
  {
   "cell_type": "markdown",
   "metadata": {},
   "source": [
    "# Getting categories"
   ]
  },
  {
   "cell_type": "code",
   "execution_count": 4,
   "metadata": {},
   "outputs": [
    {
     "name": "stdout",
     "output_type": "stream",
     "text": [
      "Time to run this code (in seconds): 42.9495769\n"
     ]
    }
   ],
   "source": [
    "for i in range(0,10000,50):\n",
    "    category_results = sp.categories(country='IN',locale=\"hin_IN\", limit=50,offset=i)\n",
    "    for i, t in enumerate(category_results['categories']['items']):\n",
    "#         artist_name.append(t['artists'][0]['name'])\n",
    "#         track_name.append(t['name'])\n",
    "#         track_id.append(t['id'])\n",
    "#         popularity.append(t['popularity'])\n",
    "        category_id.append(t['id'])\n",
    "        category_name.append(t['name'])\n",
    "      \n",
    "\n",
    "stop = timeit.default_timer()\n",
    "print ('Time to run this code (in seconds):', stop - start)"
   ]
  },
  {
   "cell_type": "code",
   "execution_count": 5,
   "metadata": {},
   "outputs": [
    {
     "name": "stdout",
     "output_type": "stream",
     "text": [
      "['toplists', 'at_home', 'pop', 'summer', 'bollywood', 'pride', 'romance', 'punjabi', 'party', 'tamil', 'edm_dance', 'telugu', 'hiphop', 'marathi', 'wellness', 'rnb', 'thirdparty', 'rock', 'kpop', 'indie_alt', 'reggae', 'mood', 'workout', 'chill', 'focus', 'decades', 'sleep', 'dinner', 'jazz', 'gaming', 'soul', 'classical', 'latin', 'metal', 'family', 'blues', 'funk', 'punk', 'travel', 'comedy_v2_podcast', 'country', 'roots', 'anime']\n",
      "['Top Lists', 'At Home', 'Pop', 'Summer', 'Bollywood', 'Pride', 'Romance', 'Punjabi', 'Party', 'Tamil', 'Electronic/Dance', 'Telugu', 'Hip-Hop', 'Marathi', 'Wellness', 'R&B', 'Tastemakers', 'Rock', 'K-Pop', 'Indie', 'Reggae', 'Mood', 'Workout', 'Chill', 'Focus', 'Decades', 'Sleep', 'Cooking & Dining', 'Jazz', 'Gaming', 'Soul', 'Classical', 'Latin', 'Metal', 'Kids & Family', 'Blues', 'Funk', 'Punk', 'Travel', 'Comedy', 'Country', 'Folk & Acoustic', 'Anime']\n"
     ]
    }
   ],
   "source": [
    "print(category_id)\n",
    "print(category_name)"
   ]
  },
  {
   "cell_type": "markdown",
   "metadata": {},
   "source": [
    "# Function for getting Playlist"
   ]
  },
  {
   "cell_type": "code",
   "execution_count": 6,
   "metadata": {},
   "outputs": [],
   "source": [
    "def get_playlist_by_category(category,offset):\n",
    "    '''\n",
    "    Get playlist ids for a particular day\n",
    "    Inputs: date in ISO-8601 format\n",
    "            offfset - page number\n",
    "    Output: paired playlist ids with number of tracks\n",
    "    '''\n",
    "    df=pd.DataFrame()\n",
    "    for i in sp.category_playlists(category_id=category,country='IN',limit=50,offset=offset)['playlists']['items']:\n",
    "        id,name,tt=[],[],[]\n",
    "        id.append(i['id'])\n",
    "        name.append(i['name'])\n",
    "        tt.append(i['tracks']['total'])\n",
    "        df=pd.concat([df,pd.DataFrame({'Playlist_id':id,'Playlist_name':name,'total_track':tt,'category':category})])\n",
    "        \n",
    "    return df"
   ]
  },
  {
   "cell_type": "code",
   "execution_count": 7,
   "metadata": {},
   "outputs": [],
   "source": [
    "categorylist=['toplists', 'pop','bollywood', 'romance', 'punjabi', 'party', 'edm_dance', 'hiphop','wellness', 'rock', 'kpop', 'indie_alt','mood', 'workout', 'chill','jazz', 'soul', 'classical','metal', 'family', 'blues', 'funk', 'punk', 'travel',  'country']"
   ]
  },
  {
   "cell_type": "markdown",
   "metadata": {},
   "source": [
    "# Creating DataFrame for playlist"
   ]
  },
  {
   "cell_type": "code",
   "execution_count": 9,
   "metadata": {},
   "outputs": [],
   "source": [
    "x=pd.DataFrame()\n",
    "for c in categorylist:\n",
    "    for i in range(0,1000,50):\n",
    "       x=pd.concat([x,get_playlist_by_category(c,i)])"
   ]
  },
  {
   "cell_type": "code",
   "execution_count": 10,
   "metadata": {
    "scrolled": true
   },
   "outputs": [
    {
     "data": {
      "text/html": [
       "<div>\n",
       "<style scoped>\n",
       "    .dataframe tbody tr th:only-of-type {\n",
       "        vertical-align: middle;\n",
       "    }\n",
       "\n",
       "    .dataframe tbody tr th {\n",
       "        vertical-align: top;\n",
       "    }\n",
       "\n",
       "    .dataframe thead th {\n",
       "        text-align: right;\n",
       "    }\n",
       "</style>\n",
       "<table border=\"1\" class=\"dataframe\">\n",
       "  <thead>\n",
       "    <tr style=\"text-align: right;\">\n",
       "      <th></th>\n",
       "      <th>Playlist_id</th>\n",
       "      <th>Playlist_name</th>\n",
       "      <th>total_track</th>\n",
       "      <th>category</th>\n",
       "    </tr>\n",
       "  </thead>\n",
       "  <tbody>\n",
       "    <tr>\n",
       "      <th>0</th>\n",
       "      <td>37i9dQZF1DXcBWIGoYBM5M</td>\n",
       "      <td>Today's Top Hits</td>\n",
       "      <td>50</td>\n",
       "      <td>toplists</td>\n",
       "    </tr>\n",
       "    <tr>\n",
       "      <th>1</th>\n",
       "      <td>37i9dQZF1DX0XUsuxWHRQd</td>\n",
       "      <td>RapCaviar</td>\n",
       "      <td>50</td>\n",
       "      <td>toplists</td>\n",
       "    </tr>\n",
       "    <tr>\n",
       "      <th>2</th>\n",
       "      <td>37i9dQZF1DX4dyzvuaRJ0n</td>\n",
       "      <td>mint</td>\n",
       "      <td>64</td>\n",
       "      <td>toplists</td>\n",
       "    </tr>\n",
       "    <tr>\n",
       "      <th>3</th>\n",
       "      <td>37i9dQZF1DXcF6B6QPhFDv</td>\n",
       "      <td>Rock This</td>\n",
       "      <td>52</td>\n",
       "      <td>toplists</td>\n",
       "    </tr>\n",
       "    <tr>\n",
       "      <th>4</th>\n",
       "      <td>37i9dQZF1DX4SBhb3fqCJd</td>\n",
       "      <td>Are &amp; Be</td>\n",
       "      <td>46</td>\n",
       "      <td>toplists</td>\n",
       "    </tr>\n",
       "    <tr>\n",
       "      <th>...</th>\n",
       "      <td>...</td>\n",
       "      <td>...</td>\n",
       "      <td>...</td>\n",
       "      <td>...</td>\n",
       "    </tr>\n",
       "    <tr>\n",
       "      <th>890</th>\n",
       "      <td>37i9dQZF1DX1V02WRNSlSH</td>\n",
       "      <td>Country Music 101:  Funny Country</td>\n",
       "      <td>76</td>\n",
       "      <td>country</td>\n",
       "    </tr>\n",
       "    <tr>\n",
       "      <th>891</th>\n",
       "      <td>37i9dQZF1DX0bUGQdz5BJG</td>\n",
       "      <td>Next From Nashville</td>\n",
       "      <td>84</td>\n",
       "      <td>country</td>\n",
       "    </tr>\n",
       "    <tr>\n",
       "      <th>892</th>\n",
       "      <td>37i9dQZF1DXcqeiTvluC9o</td>\n",
       "      <td>Country Music 101:  Welcome to Hicktown</td>\n",
       "      <td>75</td>\n",
       "      <td>country</td>\n",
       "    </tr>\n",
       "    <tr>\n",
       "      <th>893</th>\n",
       "      <td>37i9dQZF1DX1qlqn9QC3h1</td>\n",
       "      <td>Songwriters of Nashville with Charles Esten</td>\n",
       "      <td>70</td>\n",
       "      <td>country</td>\n",
       "    </tr>\n",
       "    <tr>\n",
       "      <th>894</th>\n",
       "      <td>37i9dQZF1DX6HIvDVo75RY</td>\n",
       "      <td>Spotify at Ole Red 2019</td>\n",
       "      <td>168</td>\n",
       "      <td>country</td>\n",
       "    </tr>\n",
       "  </tbody>\n",
       "</table>\n",
       "<p>895 rows × 4 columns</p>\n",
       "</div>"
      ],
      "text/plain": [
       "                Playlist_id                                Playlist_name  \\\n",
       "0    37i9dQZF1DXcBWIGoYBM5M                             Today's Top Hits   \n",
       "1    37i9dQZF1DX0XUsuxWHRQd                                    RapCaviar   \n",
       "2    37i9dQZF1DX4dyzvuaRJ0n                                         mint   \n",
       "3    37i9dQZF1DXcF6B6QPhFDv                                    Rock This   \n",
       "4    37i9dQZF1DX4SBhb3fqCJd                                     Are & Be   \n",
       "..                      ...                                          ...   \n",
       "890  37i9dQZF1DX1V02WRNSlSH            Country Music 101:  Funny Country   \n",
       "891  37i9dQZF1DX0bUGQdz5BJG                          Next From Nashville   \n",
       "892  37i9dQZF1DXcqeiTvluC9o      Country Music 101:  Welcome to Hicktown   \n",
       "893  37i9dQZF1DX1qlqn9QC3h1  Songwriters of Nashville with Charles Esten   \n",
       "894  37i9dQZF1DX6HIvDVo75RY                      Spotify at Ole Red 2019   \n",
       "\n",
       "     total_track  category  \n",
       "0             50  toplists  \n",
       "1             50  toplists  \n",
       "2             64  toplists  \n",
       "3             52  toplists  \n",
       "4             46  toplists  \n",
       "..           ...       ...  \n",
       "890           76   country  \n",
       "891           84   country  \n",
       "892           75   country  \n",
       "893           70   country  \n",
       "894          168   country  \n",
       "\n",
       "[895 rows x 4 columns]"
      ]
     },
     "execution_count": 10,
     "metadata": {},
     "output_type": "execute_result"
    }
   ],
   "source": [
    "x.reset_index(drop=True,inplace=True)\n",
    "x"
   ]
  },
  {
   "cell_type": "code",
   "execution_count": 11,
   "metadata": {},
   "outputs": [
    {
     "data": {
      "text/plain": [
       "70344"
      ]
     },
     "execution_count": 11,
     "metadata": {},
     "output_type": "execute_result"
    }
   ],
   "source": [
    "x['total_track'].sum()"
   ]
  },
  {
   "cell_type": "code",
   "execution_count": 13,
   "metadata": {},
   "outputs": [],
   "source": [
    "x.to_csv(\"Playlist.csv\",index=False)"
   ]
  }
 ],
 "metadata": {
  "kernelspec": {
   "display_name": "Python 3",
   "language": "python",
   "name": "python3"
  },
  "language_info": {
   "codemirror_mode": {
    "name": "ipython",
    "version": 3
   },
   "file_extension": ".py",
   "mimetype": "text/x-python",
   "name": "python",
   "nbconvert_exporter": "python",
   "pygments_lexer": "ipython3",
   "version": "3.7.5"
  }
 },
 "nbformat": 4,
 "nbformat_minor": 2
}
